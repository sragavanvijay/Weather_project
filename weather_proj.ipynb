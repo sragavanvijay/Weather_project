{
 "cells": [
  {
   "cell_type": "code",
   "execution_count": 4,
   "metadata": {
    "collapsed": false
   },
   "outputs": [],
   "source": [
    "from pyspark.sql import Row, functions as f\n",
    "from pyspark.sql.types import *\n",
    "from pyspark.sql.types import StructType\n",
    "import pandas as pd\n",
    "from pyspark.sql import SQLContext\n",
    "sqlContext = SQLContext(sc)\n",
    "import re\n",
    "from pyspark.sql.functions import udf"
   ]
  },
  {
   "cell_type": "code",
   "execution_count": 5,
   "metadata": {
    "collapsed": false
   },
   "outputs": [],
   "source": [
    "from pyspark import SparkContext"
   ]
  },
  {
   "cell_type": "markdown",
   "metadata": {
    "collapsed": false
   },
   "source": [
    "### Importing raw weather file into spark RDD"
   ]
  },
  {
   "cell_type": "code",
   "execution_count": 94,
   "metadata": {
    "collapsed": false
   },
   "outputs": [],
   "source": [
    "raw_Weather_file = sc.textFile(\"/home/ragavan/Downloads/data1.csv\")"
   ]
  },
  {
   "cell_type": "code",
   "execution_count": 126,
   "metadata": {
    "collapsed": false
   },
   "outputs": [],
   "source": [
    "#spliting raw file using delimiter\n",
    "raw_file_split=raw_Weather_file.map(lambda x: x.split(\",\"))\n",
    "raw_file_split.take(1)"
   ]
  },
  {
   "cell_type": "code",
   "execution_count": 127,
   "metadata": {
    "collapsed": false
   },
   "outputs": [],
   "source": [
    "#creating a spark DataFrame for weather data\n",
    "Weather_data =raw_file_split.toDF(['Location','PostCode','Temp_C','Dew_Point','Rel_Hum_%','Press_hPa','Altitude_m','Rain_mm','Low_Temp_C','High_Temp_C','Latitude','longtitude','Time_Stamp'])\n",
    "Weather_data.show()"
   ]
  },
  {
   "cell_type": "code",
   "execution_count": 66,
   "metadata": {
    "collapsed": false
   },
   "outputs": [],
   "source": [
    "#Registering the weather dataframe to a TempTable\n",
    "Weather_data.registerTempTable(\"Weather_data\")\n"
   ]
  },
  {
   "cell_type": "code",
   "execution_count": 67,
   "metadata": {
    "collapsed": false,
    "scrolled": true
   },
   "outputs": [],
   "source": [
    "#importing raw post_code file into spark RDD\n",
    "Raw_Post_code_data = sc.textFile(\"/home/ragavan/Downloads/postcode.csv\")\n",
    "#spliting raw file using delimiter\n",
    "Raw_Post_code_data_split=Raw_Post_code_data.map(lambda x: x.split(\",\"))"
   ]
  },
  {
   "cell_type": "code",
   "execution_count": 68,
   "metadata": {
    "collapsed": false,
    "scrolled": false
   },
   "outputs": [],
   "source": [
    "#creating a spark DataFrame for post_code data\n",
    "Post_code_df =Raw_Post_code_data_split.toDF(['postcode','state','poa_code','area_sqkm','latitude','longitude','total_persons_males','total_persons_females','total_persons_persons','median_age_of_persons','median_total_personal_income_weekly','median_total_household_income_weekly','total_dwellings','geo_traffic_total_no_of_roads','geo_sum_of_commercial_traffic','geo_sum_of_non_commercial_traffic','geo_avg_commercial_traffic','geo_avg_non_commercial_traffic','geo_no_of_schools','geo_number_of_shopping_centre','geo_number_of_university','geo_populcation_growth_5yr','geo_nearest_weather_station_id','geo_distance_nearest_weather_meter'])\n",
    "Post_code_df.take(1)"
   ]
  },
  {
   "cell_type": "code",
   "execution_count": null,
   "metadata": {
    "collapsed": false
   },
   "outputs": [],
   "source": []
  },
  {
   "cell_type": "code",
   "execution_count": 128,
   "metadata": {
    "collapsed": false
   },
   "outputs": [],
   "source": [
    "#Registering the post_code dataframe to a TempTable\n",
    "Post_code_df.registerTempTable(\"Post_code_df\")"
   ]
  },
  {
   "cell_type": "code",
   "execution_count": null,
   "metadata": {
    "collapsed": false
   },
   "outputs": [],
   "source": []
  },
  {
   "cell_type": "code",
   "execution_count": 125,
   "metadata": {
    "collapsed": false
   },
   "outputs": [
    {
     "data": {
      "text/plain": [
       "[Row(Location=u'Little Bay', PostCode=u'2036', Temp_C=u'25', Dew_Point=u'12', Rel_Hum_%=u'79', Press_hPa=u'1019.3', Altitude_m=u'11', Rain_mm=u'0', Low_Temp_C=u'21.6', High_Temp_C=u'24', Latitude=u'33.9805 S', longtitude=u' 151.2430 E', Time_Stamp=u'2017-03-14 14:05:36', postcode=u'2036', state=u'NSW', poa_code=u'POA2036', area_sqkm=u'15.7135889234', latitude=u'-33.9708966144', longitude=u'151.2389567771', total_persons_males=u'13913', total_persons_females=u'12982', total_persons_persons=u'26895', median_age_of_persons=u'39', median_total_personal_income_weekly=u'563', median_total_household_income_weekly=u'1234', total_dwellings=u'9016', geo_traffic_total_no_of_roads=u'236', geo_sum_of_commercial_traffic=u'133340', geo_sum_of_non_commercial_traffic=u'1350260', geo_avg_commercial_traffic=u'565', geo_avg_non_commercial_traffic=u'5721', geo_no_of_schools=u'15', geo_number_of_shopping_centre=u'13', geo_number_of_university=u'0', geo_populcation_growth_5yr=u'0.266733', geo_nearest_weather_station_id=u'66037', geo_distance_nearest_weather_meter=u'6652.22', Weather_Condition=u'Normal')]"
      ]
     },
     "execution_count": 125,
     "metadata": {},
     "output_type": "execute_result"
    }
   ],
   "source": [
    "#Calculating the weather condition (Sunny,Rain,Snow,Normal) according to the weather data\n",
    "\n",
    "Final_data_set = sqlContext.sql(\"\"\"\n",
    "SELECT \n",
    "* , \n",
    "case when Rain_mm > 4 then 'Rain' \n",
    "    when  Temp_C < 1  then 'Snow'\n",
    "    When  Temp_C > 25 and Rain_mm < 1 then 'Sunny'\n",
    "    else 'Normal'\n",
    "    end \n",
    "    as Weather_Condition\n",
    "FROM \n",
    "Weather_data tab1  JOIN  Post_code_df tab2             \n",
    "            ON tab1.PostCode = tab2.postcode\n",
    "\"\"\")\n",
    "\n",
    "##Registering the Final calculated Final_data_set to a TempTable\n",
    "Final_data_set.registerTempTable(\"whole_data_set\")\n",
    "\n",
    "##whole_data.filter(\"Weather_Condition = 'Rain'\").take(2)\n",
    "Final_data_set.take(1)\n",
    "\n",
    "\n"
   ]
  },
  {
   "cell_type": "code",
   "execution_count": 130,
   "metadata": {
    "collapsed": false
   },
   "outputs": [],
   "source": [
    "#Writing the calculated weather Data to a CSV file\n",
    "df.write.format(\"com.databricks.spark.csv\").option(\"header\", \"true\").save('/home/ragavan/Downloads/Calculated_Weather_data.csv')"
   ]
  },
  {
   "cell_type": "code",
   "execution_count": 132,
   "metadata": {
    "collapsed": false
   },
   "outputs": [
    {
     "name": "stdout",
     "output_type": "stream",
     "text": [
      "/home/ragavan\r\n"
     ]
    }
   ],
   "source": [
    "! pwd"
   ]
  },
  {
   "cell_type": "code",
   "execution_count": 85,
   "metadata": {
    "collapsed": false
   },
   "outputs": [],
   "source": [
    "#importing raw \"ideal weather condition for each sport\" file into spark RDD\n",
    "game_spec_raw_file = sc.textFile(\"/home/ragavan/Downloads/sports.csv\")"
   ]
  },
  {
   "cell_type": "code",
   "execution_count": 89,
   "metadata": {
    "collapsed": false
   },
   "outputs": [],
   "source": [
    "#Spliting the imported file with the delimiter\n",
    "game_spec_split = game_spec_raw_file.map(lambda x:x.split(\",\"))\n"
   ]
  },
  {
   "cell_type": "code",
   "execution_count": 88,
   "metadata": {
    "collapsed": false
   },
   "outputs": [
    {
     "data": {
      "text/plain": [
       "[Row(game=u'cricket', high_temp=u'44', low_temp=u'20', max_rain_limit=u'5', max_dew_point=u'20', min_relative_humidity=u'80')]"
      ]
     },
     "execution_count": 88,
     "metadata": {},
     "output_type": "execute_result"
    }
   ],
   "source": [
    "#creating a spark DataFrame for the ideal weather condition for each sport\n",
    "game_spec_df =game_spec_split.toDF(['game','high_temp','low_temp','max_rain_limit','max_dew_point','min_relative_humidity'])"
   ]
  },
  {
   "cell_type": "code",
   "execution_count": 92,
   "metadata": {
    "collapsed": false,
    "scrolled": true
   },
   "outputs": [
    {
     "data": {
      "text/plain": [
       "[Row(game=u'cricket', high_temp=u'44', low_temp=u'20', max_rain_limit=u'5', max_dew_point=u'20', min_relative_humidity=u'80')]"
      ]
     },
     "execution_count": 92,
     "metadata": {},
     "output_type": "execute_result"
    }
   ],
   "source": [
    "#registering a temp table for future calculations\n",
    "game_spec_df.registerTempTable(\"game_spec_df\")"
   ]
  },
  {
   "cell_type": "code",
   "execution_count": null,
   "metadata": {
    "collapsed": false
   },
   "outputs": [],
   "source": []
  },
  {
   "cell_type": "code",
   "execution_count": null,
   "metadata": {
    "collapsed": false
   },
   "outputs": [],
   "source": []
  },
  {
   "cell_type": "code",
   "execution_count": null,
   "metadata": {
    "collapsed": true
   },
   "outputs": [],
   "source": []
  }
 ],
 "metadata": {
  "kernelspec": {
   "display_name": "Python 2",
   "language": "python",
   "name": "python2"
  },
  "language_info": {
   "codemirror_mode": {
    "name": "ipython",
    "version": 2
   },
   "file_extension": ".py",
   "mimetype": "text/x-python",
   "name": "python",
   "nbconvert_exporter": "python",
   "pygments_lexer": "ipython2",
   "version": "2.7.13"
  }
 },
 "nbformat": 4,
 "nbformat_minor": 2
}
